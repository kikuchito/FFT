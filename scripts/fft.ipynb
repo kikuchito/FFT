{
 "cells": [
  {
   "cell_type": "code",
   "execution_count": null,
   "metadata": {},
   "outputs": [],
   "source": [
    "import numpy as np\n",
    "import sympy\n",
    "import matplotlib.pyplot as plt"
   ]
  },
  {
   "cell_type": "code",
   "execution_count": null,
   "metadata": {},
   "outputs": [],
   "source": [
    "W = np.exp(-1j * np.pi / 4)\n",
    "sg_list = [0.08, 0, 0.462, 0, -0.462, 0, -0.08, 0]\n",
    "stage1 = np.zeros(8, complex)\n",
    "\n",
    "n = 0\n",
    "m = 4\n",
    "\n",
    "for n in range(4):\n",
    "  stage1[n] = sg_list[n] + sg_list[m]\n",
    "  stage1[m] = (sg_list[n] - sg_list[m]) * (W ** n)\n",
    "  # print(f'n = {n}, {np.round(sg_list[n], 2)} + {np.round(sg_list[m], 2)}')\n",
    "  # print(f'm = {m}, ({np.round(sg_list[n], 2)} - {np.round(sg_list[m], 2)}) * {np.round(W ** n, 2)}')\n",
    "  m += 1\n",
    "\n",
    "for n in range(8):\n",
    "  print(n, ': ', np.round(stage1[n], 2))"
   ]
  },
  {
   "cell_type": "code",
   "execution_count": null,
   "metadata": {},
   "outputs": [],
   "source": [
    "stage2 = np.zeros(8, complex)\n",
    "\n",
    "n = 0\n",
    "m = 2\n",
    "p = 0\n",
    "\n",
    "for n in range(0, 2):\n",
    "  stage2[n] = stage1[n] + stage1[m]\n",
    "  stage2[m] = (stage1[n] - stage1[m]) * (W ** p)\n",
    "  # print(f'n = {n}, {np.round(stage1[n], 2)} + {np.round(stage1[m], 2)}')\n",
    "  # print(f'm = {m}, ({np.round(stage1[n], 2)} - {np.round(stage1[m], 2)}) * {np.round(W ** p, 2)}')\n",
    "  m += 1\n",
    "  p += 2\n",
    "\n",
    "n = 4\n",
    "m = 6\n",
    "p = 0\n",
    "\n",
    "for n in range(4, 6):\n",
    "  stage2[n] = stage1[n] + stage1[m]\n",
    "  stage2[m] = (stage1[n] - stage1[m]) * (W ** p)\n",
    "  # print(f'n = {n}, {np.round(sg_list[n], 2)} + {np.round(sg_list[m], 2)}')\n",
    "  # print(f'm = {m}, ({np.round(sg_list[n], 2)} - {np.round(sg_list[m], 2)}) * {np.round(W ** p, 2)}')\n",
    "  m += 1\n",
    "  p += 2\n",
    "\n",
    "\n",
    "for n in range(8):\n",
    "  print(n, ': ', np.round(stage2[n], 2))"
   ]
  },
  {
   "cell_type": "code",
   "execution_count": null,
   "metadata": {},
   "outputs": [],
   "source": [
    "stage3 = np.zeros(8, complex)\n",
    "\n",
    "n = 0\n",
    "m = 1\n",
    "\n",
    "while m < 8:\n",
    "  stage3[n] = stage2[n] + stage2[m]\n",
    "  stage3[m] = (stage2[n] - stage2[m]) * (W ** 0)\n",
    "  # print(f'n = {n}, {np.round(stage2[n], 2)} + {np.round(stage2[m], 2)}')\n",
    "  # print(f'm = {m}, ({np.round(stage2[n], 2)} - {np.round(stage2[m], 2)}) * {np.round(W ** 0, 2)}')\n",
    "  m += 2\n",
    "  n += 2\n",
    "\n",
    "for n in range(8):\n",
    "  print(n, ': ', np.round(stage3[n], 2))"
   ]
  },
  {
   "cell_type": "code",
   "execution_count": null,
   "metadata": {},
   "outputs": [],
   "source": [
    "final_sg = []\n",
    "final_sg.append(stage3[0])\n",
    "final_sg.append(stage3[4])\n",
    "final_sg.append(stage3[2])\n",
    "final_sg.append(stage3[6])\n",
    "final_sg.append(stage3[1])\n",
    "final_sg.append(stage3[5])\n",
    "final_sg.append(stage3[3])\n",
    "final_sg.append(stage3[7])\n",
    "\n",
    "for n in range(8):\n",
    "  print(n, ': ', np.round(final_sg[n], 2))"
   ]
  }
 ],
 "metadata": {
  "language_info": {
   "name": "python"
  }
 },
 "nbformat": 4,
 "nbformat_minor": 2
}
